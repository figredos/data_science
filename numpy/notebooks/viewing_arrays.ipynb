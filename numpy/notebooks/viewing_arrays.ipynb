{
 "cells": [
  {
   "cell_type": "markdown",
   "metadata": {},
   "source": [
    "# Viewing arrays\n",
    "\n",
    "There are many ways of visualizing data contained in arrays. Although NumPy itself doesn't directly create visualizations, it offers some simple tools to visualize data from within the arrays themselves.\n",
    "\n",
    "- [Index-based inspection](#index-based-inspection)\n",
    "- [Slicing](#slicing)\n"
   ]
  },
  {
   "cell_type": "code",
   "execution_count": 1,
   "metadata": {},
   "outputs": [],
   "source": [
    "import numpy as np"
   ]
  },
  {
   "cell_type": "code",
   "execution_count": 2,
   "metadata": {},
   "outputs": [
    {
     "data": {
      "text/plain": [
       "array([[9, 4, 3],\n",
       "       [4, 5, 8],\n",
       "       [1, 0, 0],\n",
       "       [5, 0, 5],\n",
       "       [6, 2, 6]])"
      ]
     },
     "execution_count": 2,
     "metadata": {},
     "output_type": "execute_result"
    }
   ],
   "source": [
    "# Creating random array\n",
    "random_array = np.random.randint(10, size=(5, 3))\n",
    "\n",
    "random_array"
   ]
  },
  {
   "cell_type": "code",
   "execution_count": 3,
   "metadata": {},
   "outputs": [
    {
     "data": {
      "text/plain": [
       "array([0, 1, 2, 3, 4, 5, 6, 8, 9])"
      ]
     },
     "execution_count": 3,
     "metadata": {},
     "output_type": "execute_result"
    }
   ],
   "source": [
    "# Finding unique numbers there are in the array\n",
    "np.unique(random_array)"
   ]
  },
  {
   "cell_type": "code",
   "execution_count": 4,
   "metadata": {},
   "outputs": [],
   "source": [
    "# Creating arrays\n",
    "a1 = np.array([1, 2, 3])\n",
    "\n",
    "a2 = np.array([[1, 2.0, 3.3], [4, 5, 6.5]])\n",
    "\n",
    "a3 = np.array(\n",
    "    [\n",
    "        [\n",
    "            [1, 2, 3],\n",
    "            [4, 5, 6],\n",
    "            [7, 8, 9],\n",
    "        ],\n",
    "        [\n",
    "            [10, 11, 12],\n",
    "            [13, 14, 15],\n",
    "            [16, 17, 18],\n",
    "        ],\n",
    "    ],\n",
    ")\n",
    "\n",
    "a4 = np.random.randint(10, size=(2, 3, 4, 5))"
   ]
  },
  {
   "cell_type": "markdown",
   "metadata": {},
   "source": [
    "## Index-based inspection\n",
    "\n",
    "You can access individual elements within the array using their index. This can be done in simple vectors or in matrices. Elements are accessed through the dimensions defined in the arrays shape. For example `array[3]` would show the fourth element in the array, if this array is one-dimensional, if not, it only show the entire row that is contained. To show an element via index in a multi-dimensional array, use multiple indexes, one for each dimension of the array.\n",
    "\n",
    "```python\n",
    "# Shows the third element in the fourth row of array\n",
    "array[3][2]\n",
    "\n",
    "# or\n",
    "\n",
    "array[3, 2]\n",
    "```\n",
    "\n",
    "## Slicing\n",
    "\n",
    "NumPy also supports slicing, much like in python strings. This slicing can be done either sectionally, showing contents of an array in a range, `array[3:5]`, or conditionally, `array[array > 8]`. This slicing must also follow the principles of dimensional arrays, making it so that if an array has multiple dimensions, this slicing should be specific to each element\n"
   ]
  },
  {
   "cell_type": "code",
   "execution_count": 5,
   "metadata": {},
   "outputs": [
    {
     "data": {
      "text/plain": [
       "(1,\n",
       " array([1. , 2. , 3.3]),\n",
       " array([[1, 2, 3],\n",
       "        [4, 5, 6],\n",
       "        [7, 8, 9]]))"
      ]
     },
     "execution_count": 5,
     "metadata": {},
     "output_type": "execute_result"
    }
   ],
   "source": [
    "# You can find the elements of an array via index\n",
    "a1[0], a2[0], a3[0]"
   ]
  },
  {
   "cell_type": "code",
   "execution_count": 6,
   "metadata": {},
   "outputs": [
    {
     "data": {
      "text/plain": [
       "(3.3, 3.3)"
      ]
     },
     "execution_count": 6,
     "metadata": {},
     "output_type": "execute_result"
    }
   ],
   "source": [
    "# Getting the third element of the first row of array\n",
    "a2[0, 2], a2[0][2]"
   ]
  },
  {
   "cell_type": "code",
   "execution_count": 7,
   "metadata": {},
   "outputs": [
    {
     "data": {
      "text/plain": [
       "array([[[ 1,  2],\n",
       "        [ 4,  5]],\n",
       "\n",
       "       [[10, 11],\n",
       "        [13, 14]]])"
      ]
     },
     "execution_count": 7,
     "metadata": {},
     "output_type": "execute_result"
    }
   ],
   "source": [
    "# Slicing arrays is also possible\n",
    "a3[:2, :2, :2]"
   ]
  },
  {
   "cell_type": "code",
   "execution_count": 8,
   "metadata": {},
   "outputs": [
    {
     "data": {
      "text/plain": [
       "array([[[[1, 4, 9, 0, 3],\n",
       "         [1, 7, 9, 6, 3],\n",
       "         [7, 0, 9, 9, 2],\n",
       "         [6, 5, 7, 9, 2]],\n",
       "\n",
       "        [[5, 7, 8, 4, 3],\n",
       "         [3, 5, 7, 9, 0],\n",
       "         [5, 0, 6, 2, 0],\n",
       "         [7, 1, 1, 6, 1]],\n",
       "\n",
       "        [[8, 0, 4, 6, 4],\n",
       "         [6, 9, 3, 0, 0],\n",
       "         [0, 2, 5, 3, 3],\n",
       "         [8, 7, 4, 3, 0]]],\n",
       "\n",
       "\n",
       "       [[[7, 5, 6, 0, 2],\n",
       "         [4, 7, 0, 1, 8],\n",
       "         [7, 2, 3, 4, 2],\n",
       "         [9, 5, 3, 9, 0]],\n",
       "\n",
       "        [[6, 5, 1, 8, 3],\n",
       "         [6, 6, 3, 7, 2],\n",
       "         [0, 9, 7, 8, 3],\n",
       "         [8, 6, 9, 8, 1]],\n",
       "\n",
       "        [[0, 3, 9, 6, 6],\n",
       "         [5, 6, 4, 1, 0],\n",
       "         [1, 9, 9, 7, 6],\n",
       "         [6, 4, 8, 1, 7]]]])"
      ]
     },
     "execution_count": 8,
     "metadata": {},
     "output_type": "execute_result"
    }
   ],
   "source": [
    "# Showing array\n",
    "a4"
   ]
  },
  {
   "cell_type": "code",
   "execution_count": 9,
   "metadata": {},
   "outputs": [
    {
     "data": {
      "text/plain": [
       "array([[[[1, 4, 9, 0],\n",
       "         [1, 7, 9, 6],\n",
       "         [7, 0, 9, 9],\n",
       "         [6, 5, 7, 9]],\n",
       "\n",
       "        [[5, 7, 8, 4],\n",
       "         [3, 5, 7, 9],\n",
       "         [5, 0, 6, 2],\n",
       "         [7, 1, 1, 6]],\n",
       "\n",
       "        [[8, 0, 4, 6],\n",
       "         [6, 9, 3, 0],\n",
       "         [0, 2, 5, 3],\n",
       "         [8, 7, 4, 3]]],\n",
       "\n",
       "\n",
       "       [[[7, 5, 6, 0],\n",
       "         [4, 7, 0, 1],\n",
       "         [7, 2, 3, 4],\n",
       "         [9, 5, 3, 9]],\n",
       "\n",
       "        [[6, 5, 1, 8],\n",
       "         [6, 6, 3, 7],\n",
       "         [0, 9, 7, 8],\n",
       "         [8, 6, 9, 8]],\n",
       "\n",
       "        [[0, 3, 9, 6],\n",
       "         [5, 6, 4, 1],\n",
       "         [1, 9, 9, 7],\n",
       "         [6, 4, 8, 1]]]])"
      ]
     },
     "execution_count": 9,
     "metadata": {},
     "output_type": "execute_result"
    }
   ],
   "source": [
    "a4[:, :, :, :4]"
   ]
  }
 ],
 "metadata": {
  "kernelspec": {
   "display_name": "Python 3",
   "language": "python",
   "name": "python3"
  },
  "language_info": {
   "codemirror_mode": {
    "name": "ipython",
    "version": 3
   },
   "file_extension": ".py",
   "mimetype": "text/x-python",
   "name": "python",
   "nbconvert_exporter": "python",
   "pygments_lexer": "ipython3",
   "version": "3.12.3"
  }
 },
 "nbformat": 4,
 "nbformat_minor": 2
}
