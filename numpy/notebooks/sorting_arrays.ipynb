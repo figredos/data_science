{
 "cells": [
  {
   "cell_type": "markdown",
   "metadata": {},
   "source": [
    "# Sorting arrays\n",
    "\n",
    "NumPy's array sorting capabilities are essential for data analysis. Sorting allows for efficient organization of massive datasets, making it a breeze to spot trends, perform calculations, and visualize data. Sorted arrays are the workhorses of many data processing tasks, enabling faster computations and improving the clarity of visualizations.\n",
    "\n",
    "Here are some of the methods provided by NumPy for sorting arrays:\n",
    "\n",
    "## `.sort()`\n",
    "\n",
    "This method sorts the elements of an array in-place, modifying the original array. It sorts in ascending order by default. You can optionally specify the axis argument to sort along a particular axis of a multidimensional array.\n",
    "\n",
    "## `.argsort()`\n",
    "\n",
    "This method returns the indices that should sort the original array. It doesn't modify the original array. This is useful when you want to obtain the order for sorting but don't want to alter the original data. These indices can be used with other array manipulation operations.\n",
    "\n",
    "## `.argmin()`\n",
    "\n",
    "This method returns the index of the first occurrence of the minimum value in the array along a specific axis. It doesn't modify the original array.\n",
    "\n",
    "## `.argmax()`\n",
    "\n",
    "This method returns the index of the first occurrence of the maximum value in the array along a specific axis. Much like other functions, it doesn't modify the original array.\n"
   ]
  },
  {
   "cell_type": "code",
   "execution_count": 18,
   "metadata": {},
   "outputs": [
    {
     "data": {
      "text/plain": [
       "(array([1, 2, 3]),\n",
       " array([[3, 4, 0, 0, 6],\n",
       "        [4, 5, 0, 5, 6],\n",
       "        [2, 4, 7, 8, 5]]))"
      ]
     },
     "execution_count": 18,
     "metadata": {},
     "output_type": "execute_result"
    }
   ],
   "source": [
    "# Importing numpy and creating array\n",
    "import numpy as np\n",
    "\n",
    "a1 = np.array([1, 2, 3])\n",
    "\n",
    "random_array = np.random.randint(10, size=(3, 5))\n",
    "\n",
    "a1, random_array"
   ]
  },
  {
   "cell_type": "code",
   "execution_count": 14,
   "metadata": {},
   "outputs": [
    {
     "data": {
      "text/plain": [
       "array([[0, 6, 7, 8, 8],\n",
       "       [2, 2, 5, 5, 9],\n",
       "       [1, 1, 8, 8, 9]])"
      ]
     },
     "execution_count": 14,
     "metadata": {},
     "output_type": "execute_result"
    }
   ],
   "source": [
    "# Sorting array by axis\n",
    "np.sort(random_array)"
   ]
  },
  {
   "cell_type": "code",
   "execution_count": 11,
   "metadata": {},
   "outputs": [
    {
     "data": {
      "text/plain": [
       "(array([0, 1, 2]),\n",
       " array([[2, 4, 1, 0, 3],\n",
       "        [2, 4, 0, 3, 1],\n",
       "        [3, 4, 0, 1, 2]]))"
      ]
     },
     "execution_count": 11,
     "metadata": {},
     "output_type": "execute_result"
    }
   ],
   "source": [
    "# Sorting the indexes of the arrays\n",
    "np.argsort(a1), np.argsort(random_array)"
   ]
  },
  {
   "cell_type": "code",
   "execution_count": 22,
   "metadata": {},
   "outputs": [
    {
     "data": {
      "text/plain": [
       "(0, array([2, 0, 0, 0, 2]), array([2, 2, 0]))"
      ]
     },
     "execution_count": 22,
     "metadata": {},
     "output_type": "execute_result"
    }
   ],
   "source": [
    "# Finding the index of smallest element in array\n",
    "np.argmin(a1), np.argmin(random_array, axis=0), np.argmin(random_array, axis=1)"
   ]
  },
  {
   "cell_type": "code",
   "execution_count": 23,
   "metadata": {},
   "outputs": [
    {
     "data": {
      "text/plain": [
       "(2, array([1, 1, 2, 2, 0]), array([4, 4, 3]))"
      ]
     },
     "execution_count": 23,
     "metadata": {},
     "output_type": "execute_result"
    }
   ],
   "source": [
    "# Finding the index of biggest element in array\n",
    "np.argmax(a1), np.argmax(random_array, axis=0), np.argmax(random_array, axis=1)"
   ]
  }
 ],
 "metadata": {
  "kernelspec": {
   "display_name": "Python 3",
   "language": "python",
   "name": "python3"
  },
  "language_info": {
   "codemirror_mode": {
    "name": "ipython",
    "version": 3
   },
   "file_extension": ".py",
   "mimetype": "text/x-python",
   "name": "python",
   "nbconvert_exporter": "python",
   "pygments_lexer": "ipython3",
   "version": "3.12.3"
  }
 },
 "nbformat": 4,
 "nbformat_minor": 2
}
