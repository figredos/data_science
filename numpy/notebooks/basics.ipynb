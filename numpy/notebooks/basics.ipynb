{
 "cells": [
  {
   "cell_type": "markdown",
   "metadata": {},
   "source": [
    "# Basics\n",
    "\n",
    "- [DataTypes and Attributes](#datatypes-and-attributes)\n",
    "- [Anatomy of an Array](#anatomy-of-array)\n",
    "- [Attributes](#attributes)\n",
    "- [Integration with other DS Packages](#integration-with-other-ds-packages)\n"
   ]
  },
  {
   "cell_type": "code",
   "execution_count": 1,
   "metadata": {},
   "outputs": [],
   "source": [
    "# Importing numpy\n",
    "import numpy as np"
   ]
  },
  {
   "cell_type": "markdown",
   "metadata": {},
   "source": [
    "## DataTypes and Attributes\n",
    "\n",
    "NumPy pretty much has one DataType, the N-D array (n-dimensional array). NumPy arrays are a fundamental data structure in the world of scientific computing with Python. They are essentially multidimensional arrays that offer several advantages over standard python lists.\n",
    "\n",
    "NumPy arrays are designed for storing large amounts of data compactly in memory. This is because all the elements in a NumPy array must be of the same data type, which allows for optimizations in storage and computations. Operations in NumPy arrays are much faster than on Python lists because NumPy can leverage vectorized operations, which perform calculations on entire arrays at once instead of iterating through each element individually.\n",
    "\n",
    "NumPy offers a rich set of functions for working with array. These functions include mathematical operations, linear algebra operations, random number generation, and file input/output.\n",
    "\n",
    "NumPy arrays come with several key attributes that provide information about their structure and data.\n"
   ]
  },
  {
   "cell_type": "code",
   "execution_count": 2,
   "metadata": {},
   "outputs": [],
   "source": [
    "# Creating arrays\n",
    "a1 = np.array([1, 2, 3])\n",
    "\n",
    "a2 = np.array([[1, 2.0, 3.3], [4, 5, 6.5]])\n",
    "\n",
    "a3 = np.array(\n",
    "    [\n",
    "        [\n",
    "            [1, 2, 3],\n",
    "            [4, 5, 6],\n",
    "            [7, 8, 9],\n",
    "        ],\n",
    "        [\n",
    "            [10, 11, 12],\n",
    "            [13, 14, 15],\n",
    "            [16, 17, 18],\n",
    "        ],\n",
    "    ],\n",
    ")"
   ]
  },
  {
   "cell_type": "code",
   "execution_count": 3,
   "metadata": {},
   "outputs": [
    {
     "data": {
      "text/plain": [
       "(array([1, 2, 3]),\n",
       " array([[1. , 2. , 3.3],\n",
       "        [4. , 5. , 6.5]]),\n",
       " array([[[ 1,  2,  3],\n",
       "         [ 4,  5,  6],\n",
       "         [ 7,  8,  9]],\n",
       " \n",
       "        [[10, 11, 12],\n",
       "         [13, 14, 15],\n",
       "         [16, 17, 18]]]))"
      ]
     },
     "execution_count": 3,
     "metadata": {},
     "output_type": "execute_result"
    }
   ],
   "source": [
    "a1, a2, a3"
   ]
  },
  {
   "cell_type": "code",
   "execution_count": 4,
   "metadata": {},
   "outputs": [
    {
     "data": {
      "text/plain": [
       "(numpy.ndarray, numpy.ndarray, numpy.ndarray)"
      ]
     },
     "execution_count": 4,
     "metadata": {},
     "output_type": "execute_result"
    }
   ],
   "source": [
    "type(a1), type(a2), type(a3)"
   ]
  },
  {
   "cell_type": "markdown",
   "metadata": {},
   "source": [
    "## Anatomy of array\n",
    "\n",
    "![anatomy of array](../images/array_anatomy.jpg)\n",
    "\n",
    "The image above covers the basic anatomy of an array. It's composed of 3 basic details, a name of the actual structure, the dimension, and the shape.\n",
    "\n",
    "If the array is one dimensional, it is a vector, if it's multidimensional it's called a matrix.\n",
    "\n",
    "The dimension shows how many axes or direction an array has. Axis 0 refers to the layers of an array, axis 0 refers to the rows of an array, and finally, axis 2 refers to the columns of an array.\n",
    "\n",
    "Shape specifies the size of the array along each dimension, more specifically it shows in order of axes (0, 1, 2) how many layers, rows and columns the array is composed of respectively.\n",
    "\n",
    "## Attributes\n",
    "\n",
    "### `ndim`\n",
    "\n",
    "This attribute represents the number of axes or dimensions the array has. A 1D array is a single row, a 2D array is a table-like structure, and so on.\n",
    "\n",
    "### `shape`\n",
    "\n",
    "This attribute represents the number of axes (or dimensions) the array has. A 1D array is a single row, a 2D array is a table-like structure, and so on.\n",
    "\n",
    "### `size`\n",
    "\n",
    "This attribute represents the total number of elements in the array. It's essentially the product of all the numbers in the shared tuple. You can access the data type using the dtype attribute.\n",
    "\n",
    "### `dtype`\n",
    "\n",
    "This attribute specifies the data type of the elements in the array. All elements in a NumPy array must have the same data type, which could be integers, floats, strings, or other supported types.\n"
   ]
  },
  {
   "cell_type": "code",
   "execution_count": 5,
   "metadata": {},
   "outputs": [
    {
     "data": {
      "text/plain": [
       "(1, 2, 3)"
      ]
     },
     "execution_count": 5,
     "metadata": {},
     "output_type": "execute_result"
    }
   ],
   "source": [
    "# Number of dimensions of array\n",
    "a1.ndim, a2.ndim, a3.ndim"
   ]
  },
  {
   "cell_type": "code",
   "execution_count": 6,
   "metadata": {},
   "outputs": [
    {
     "data": {
      "text/plain": [
       "((3,), (2, 3), (2, 3, 3))"
      ]
     },
     "execution_count": 6,
     "metadata": {},
     "output_type": "execute_result"
    }
   ],
   "source": [
    "# Array's shape\n",
    "a1.shape, a2.shape, a3.shape"
   ]
  },
  {
   "cell_type": "code",
   "execution_count": 7,
   "metadata": {},
   "outputs": [
    {
     "data": {
      "text/plain": [
       "(3, 6, 18)"
      ]
     },
     "execution_count": 7,
     "metadata": {},
     "output_type": "execute_result"
    }
   ],
   "source": [
    "# Array's size\n",
    "a1.size, a2.size, a3.size"
   ]
  },
  {
   "cell_type": "code",
   "execution_count": 8,
   "metadata": {},
   "outputs": [
    {
     "data": {
      "text/plain": [
       "(dtype('int64'), dtype('float64'), dtype('int64'))"
      ]
     },
     "execution_count": 8,
     "metadata": {},
     "output_type": "execute_result"
    }
   ],
   "source": [
    "# Type of array data\n",
    "a1.dtype, a2.dtype, a3.dtype"
   ]
  },
  {
   "cell_type": "markdown",
   "metadata": {},
   "source": [
    "## Integration with other DS packages\n"
   ]
  },
  {
   "cell_type": "code",
   "execution_count": 9,
   "metadata": {},
   "outputs": [
    {
     "data": {
      "text/html": [
       "<div>\n",
       "<style scoped>\n",
       "    .dataframe tbody tr th:only-of-type {\n",
       "        vertical-align: middle;\n",
       "    }\n",
       "\n",
       "    .dataframe tbody tr th {\n",
       "        vertical-align: top;\n",
       "    }\n",
       "\n",
       "    .dataframe thead th {\n",
       "        text-align: right;\n",
       "    }\n",
       "</style>\n",
       "<table border=\"1\" class=\"dataframe\">\n",
       "  <thead>\n",
       "    <tr style=\"text-align: right;\">\n",
       "      <th></th>\n",
       "      <th>0</th>\n",
       "      <th>1</th>\n",
       "      <th>2</th>\n",
       "    </tr>\n",
       "  </thead>\n",
       "  <tbody>\n",
       "    <tr>\n",
       "      <th>0</th>\n",
       "      <td>1.0</td>\n",
       "      <td>2.0</td>\n",
       "      <td>3.3</td>\n",
       "    </tr>\n",
       "    <tr>\n",
       "      <th>1</th>\n",
       "      <td>4.0</td>\n",
       "      <td>5.0</td>\n",
       "      <td>6.5</td>\n",
       "    </tr>\n",
       "  </tbody>\n",
       "</table>\n",
       "</div>"
      ],
      "text/plain": [
       "     0    1    2\n",
       "0  1.0  2.0  3.3\n",
       "1  4.0  5.0  6.5"
      ]
     },
     "execution_count": 9,
     "metadata": {},
     "output_type": "execute_result"
    }
   ],
   "source": [
    "# Create DataFrame from a Numpy array\n",
    "import pandas as pd\n",
    "\n",
    "df = pd.DataFrame(a2)\n",
    "df"
   ]
  }
 ],
 "metadata": {
  "kernelspec": {
   "display_name": "Python 3",
   "language": "python",
   "name": "python3"
  },
  "language_info": {
   "codemirror_mode": {
    "name": "ipython",
    "version": 3
   },
   "file_extension": ".py",
   "mimetype": "text/x-python",
   "name": "python",
   "nbconvert_exporter": "python",
   "pygments_lexer": "ipython3",
   "version": "3.12.3"
  }
 },
 "nbformat": 4,
 "nbformat_minor": 2
}
