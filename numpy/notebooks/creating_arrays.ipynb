{
 "cells": [
  {
   "cell_type": "markdown",
   "metadata": {},
   "source": [
    "# Creating arrays\n",
    "\n",
    "Numpy provides a versatile approach to array creation. It goes beyond simple data structures, offering functions to craft arrays pre-filled with zeros, ones or random values. Specialised functions handle specific spacings or identity matrices. This flexibility ensures arrays perfectly align with a variety of data analysis tasks.\n",
    "\n",
    "- [Functions to create arrays](#functions-to-create-arrays)\n",
    "  - [.array](#array)\n",
    "  - [.ones](#ones)\n",
    "  - [.zeros](#zeros)\n",
    "  - [.arrange](#arange)\n",
    "  - [.eye](#eye)\n",
    "- [Random arrays](#random-arrays)\n",
    "  - [.random.randint](#randomrandint)\n",
    "  - [.random.rand](#randomrand)\n",
    "  - [.random.random](#randomrandom)\n",
    "  - [.random.seed](#randomseed)\n"
   ]
  },
  {
   "cell_type": "code",
   "execution_count": 17,
   "metadata": {},
   "outputs": [],
   "source": [
    "# Importing numpy\n",
    "import numpy as np"
   ]
  },
  {
   "cell_type": "markdown",
   "metadata": {},
   "source": [
    "## Functions to create arrays\n",
    "\n",
    "### `.array`\n",
    "\n",
    "Creates an array from a list, tuple, etc. This is the most basic way of creating an array.\n",
    "\n",
    "### `.ones`\n",
    "\n",
    "This creates an array of the specified size filled with ones.\n",
    "\n",
    "### `.zeros`\n",
    "\n",
    "Works much like the aforementioned `ones` function, but instead creates an array of the specified size filled with zeros.\n",
    "\n",
    "### `.arange`\n",
    "\n",
    "This function creates an array based on a range function. Receives arguments very much like the range function, with start, stop and step.\n",
    "\n",
    "### `.eye`\n",
    "\n",
    "Creates an Identity matrix based on the value received as argument. Since Identity matrices\n",
    "\n",
    "### `.unique`\n",
    "\n",
    "Although not a tool for creating arrays, this method allow fast insight into all of the unique numbers in the array.\n"
   ]
  },
  {
   "cell_type": "code",
   "execution_count": 18,
   "metadata": {},
   "outputs": [
    {
     "data": {
      "text/plain": [
       "array([1, 2, 3])"
      ]
     },
     "execution_count": 18,
     "metadata": {},
     "output_type": "execute_result"
    }
   ],
   "source": [
    "# Creating sample array\n",
    "sample_array = np.array([1, 2, 3])\n",
    "sample_array"
   ]
  },
  {
   "cell_type": "code",
   "execution_count": 19,
   "metadata": {},
   "outputs": [
    {
     "data": {
      "text/plain": [
       "dtype('int64')"
      ]
     },
     "execution_count": 19,
     "metadata": {},
     "output_type": "execute_result"
    }
   ],
   "source": [
    "# Checking array's type\n",
    "sample_array.dtype"
   ]
  },
  {
   "cell_type": "code",
   "execution_count": 20,
   "metadata": {},
   "outputs": [
    {
     "data": {
      "text/plain": [
       "array([[1., 1., 1.],\n",
       "       [1., 1., 1.]])"
      ]
     },
     "execution_count": 20,
     "metadata": {},
     "output_type": "execute_result"
    }
   ],
   "source": [
    "# Creates an array filled with ones\n",
    "ones = np.ones((2, 3))\n",
    "ones"
   ]
  },
  {
   "cell_type": "code",
   "execution_count": 21,
   "metadata": {},
   "outputs": [
    {
     "data": {
      "text/plain": [
       "numpy.ndarray"
      ]
     },
     "execution_count": 21,
     "metadata": {},
     "output_type": "execute_result"
    }
   ],
   "source": [
    "# Checking type of array\n",
    "type(ones)"
   ]
  },
  {
   "cell_type": "code",
   "execution_count": 22,
   "metadata": {},
   "outputs": [
    {
     "data": {
      "text/plain": [
       "array([[0., 0., 0.],\n",
       "       [0., 0., 0.]])"
      ]
     },
     "execution_count": 22,
     "metadata": {},
     "output_type": "execute_result"
    }
   ],
   "source": [
    "# Creating array filled with zeros\n",
    "zeros = np.zeros((2, 3))\n",
    "zeros"
   ]
  },
  {
   "cell_type": "code",
   "execution_count": 23,
   "metadata": {},
   "outputs": [
    {
     "data": {
      "text/plain": [
       "array([0, 2, 4, 6, 8])"
      ]
     },
     "execution_count": 23,
     "metadata": {},
     "output_type": "execute_result"
    }
   ],
   "source": [
    "# Creating an array based on a range function (start, stop, step)\n",
    "range_array = np.arange(0, 10, 2)\n",
    "range_array"
   ]
  },
  {
   "cell_type": "code",
   "execution_count": 34,
   "metadata": {},
   "outputs": [
    {
     "data": {
      "text/plain": [
       "array([[1., 0., 0.],\n",
       "       [0., 1., 0.],\n",
       "       [0., 0., 1.]])"
      ]
     },
     "execution_count": 34,
     "metadata": {},
     "output_type": "execute_result"
    }
   ],
   "source": [
    "# Creates identity matrice of size 3\n",
    "identity = np.eye(3)\n",
    "identity"
   ]
  },
  {
   "cell_type": "code",
   "execution_count": 36,
   "metadata": {},
   "outputs": [
    {
     "data": {
      "text/plain": [
       "array([[0., 0., 0.],\n",
       "       [0., 0., 0.],\n",
       "       [0., 0., 0.]])"
      ]
     },
     "execution_count": 36,
     "metadata": {},
     "output_type": "execute_result"
    }
   ],
   "source": [
    "# Creates empty array\n",
    "empty_array = np.empty((3, 3))\n",
    "empty_array"
   ]
  },
  {
   "cell_type": "markdown",
   "metadata": {},
   "source": [
    "## Random arrays\n",
    "\n",
    "Numpy offers extensive functionality for crafting random arrays. This goes beyond simple uniform distributions, allowing you to generate arrays with elements drawn from various uniform distributions or by selecting from existing data. This flexibility empowers you to create random data suited to diverse simulation and analysis scenarios.\n",
    "\n",
    "### `.random.randint`\n",
    "\n",
    "This method generates one or more random integers. It takes three arguments, `low`, that defines the starting number (inclusive), `high`, that defines the limit for the number generation (exclusive), and `size`, that sets the size of the array.\n",
    "\n",
    "### `.random.rand`\n",
    "\n",
    "Generates an array of the specified size filled with random floating-point numbers, between 0 and 1. As an argument it takes a tuple of two values, the first represents the amount of rows, and the second the amount of columns of the matrix.\n",
    "\n",
    "### `.random.random`\n",
    "\n",
    "This method works exactly like the previous one, generating random floating-point numbers of value between 0 and 1. The main difference between the two methods is how the arguments are passed, where `.random.rand` takes a tuple with the size of the array as values in that tuple, this method takes the values separately as arguments.\n",
    "\n",
    "### `.random.seed`\n",
    "\n",
    "The `.random.seed` method in Numpy's random module is used to initialize the random number generator. It sets a starting point for the sequence of random numbers that will be generated. Since computers cannot generate true randomness, they rely on algorithms that produce a sequence of numbers appearing random, called pseudorandom numbers. With the same seed value, the `.random.seed` method ensures the random number generator generates the exact same sequence of random numbers every time the code is run. This allows for reproducibility in simulations or experiments that rely on randomness.\n",
    "\n",
    "As you may imagine, using different seeds will lead to entirely different sequences of random numbers being generated. This is crucial for generating fresh randomness whenever needed.\n"
   ]
  },
  {
   "cell_type": "code",
   "execution_count": 24,
   "metadata": {},
   "outputs": [
    {
     "data": {
      "text/plain": [
       "array([[7, 6, 1, 8, 3],\n",
       "       [2, 4, 6, 3, 4],\n",
       "       [2, 1, 9, 6, 3]])"
      ]
     },
     "execution_count": 24,
     "metadata": {},
     "output_type": "execute_result"
    }
   ],
   "source": [
    "# Creating random array (low, high, size)\n",
    "random_array = np.random.randint(low=0, high=10, size=(3, 5))\n",
    "random_array"
   ]
  },
  {
   "cell_type": "code",
   "execution_count": 25,
   "metadata": {},
   "outputs": [
    {
     "data": {
      "text/plain": [
       "(15, (3, 5))"
      ]
     },
     "execution_count": 25,
     "metadata": {},
     "output_type": "execute_result"
    }
   ],
   "source": [
    "# Getting array's shape and size\n",
    "random_array.size, random_array.shape"
   ]
  },
  {
   "cell_type": "code",
   "execution_count": 26,
   "metadata": {},
   "outputs": [
    {
     "data": {
      "text/plain": [
       "array([[0.31118827, 0.75550127, 0.95617997],\n",
       "       [0.20997533, 0.98372051, 0.49441991],\n",
       "       [0.71393518, 0.68252607, 0.29842868],\n",
       "       [0.05257151, 0.88541845, 0.02838727],\n",
       "       [0.28212467, 0.66351709, 0.5306667 ]])"
      ]
     },
     "execution_count": 26,
     "metadata": {},
     "output_type": "execute_result"
    }
   ],
   "source": [
    "# Creating random array based only on tuple as argument\n",
    "random_array_2 = np.random.random((5, 3))\n",
    "random_array_2"
   ]
  },
  {
   "cell_type": "code",
   "execution_count": 27,
   "metadata": {},
   "outputs": [
    {
     "data": {
      "text/plain": [
       "(15, (5, 3))"
      ]
     },
     "execution_count": 27,
     "metadata": {},
     "output_type": "execute_result"
    }
   ],
   "source": [
    "# Getting array's size and shape\n",
    "random_array_2.size, random_array_2.shape"
   ]
  },
  {
   "cell_type": "code",
   "execution_count": 28,
   "metadata": {},
   "outputs": [
    {
     "data": {
      "text/plain": [
       "array([[0.76448376, 0.59271598, 0.89892994],\n",
       "       [0.38916576, 0.30612428, 0.25897026],\n",
       "       [0.28063144, 0.0021157 , 0.1459736 ],\n",
       "       [0.39009586, 0.48979814, 0.43820696],\n",
       "       [0.46852356, 0.5197118 , 0.7564589 ]])"
      ]
     },
     "execution_count": 28,
     "metadata": {},
     "output_type": "execute_result"
    }
   ],
   "source": [
    "# Creating arary based on dimensions as argument\n",
    "random_array_3 = np.random.rand(5, 3)\n",
    "random_array_3"
   ]
  },
  {
   "cell_type": "code",
   "execution_count": 29,
   "metadata": {},
   "outputs": [
    {
     "data": {
      "text/plain": [
       "array([[5, 0, 3],\n",
       "       [3, 7, 9],\n",
       "       [3, 5, 2],\n",
       "       [4, 7, 6],\n",
       "       [8, 8, 1]])"
      ]
     },
     "execution_count": 29,
     "metadata": {},
     "output_type": "execute_result"
    }
   ],
   "source": [
    "# Pseudo-random numbers\n",
    "np.random.seed(seed=0)  # Setting a seed\n",
    "\n",
    "random_array_4 = np.random.randint(\n",
    "    10, size=(5, 3))  # Numbers don't change once a seed is set\n",
    "random_array_4"
   ]
  }
 ],
 "metadata": {
  "kernelspec": {
   "display_name": "Python 3",
   "language": "python",
   "name": "python3"
  },
  "language_info": {
   "codemirror_mode": {
    "name": "ipython",
    "version": 3
   },
   "file_extension": ".py",
   "mimetype": "text/x-python",
   "name": "python",
   "nbconvert_exporter": "python",
   "pygments_lexer": "ipython3",
   "version": "3.12.3"
  }
 },
 "nbformat": 4,
 "nbformat_minor": 2
}
